{
 "cells": [
  {
   "cell_type": "code",
   "execution_count": 4,
   "metadata": {},
   "outputs": [],
   "source": [
    "import os\n",
    "from dotenv import load_dotenv\n",
    "\n",
    "\n",
    "MODEL='llama3'"
   ]
  },
  {
   "cell_type": "code",
   "execution_count": 15,
   "metadata": {},
   "outputs": [
    {
     "data": {
      "text/plain": [
       "<function dotenv.main.load_dotenv(dotenv_path: Union[str, ForwardRef('os.PathLike[str]'), NoneType] = None, stream: Optional[IO[str]] = None, verbose: bool = False, override: bool = False, interpolate: bool = True, encoding: Optional[str] = 'utf-8') -> bool>"
      ]
     },
     "execution_count": 15,
     "metadata": {},
     "output_type": "execute_result"
    }
   ],
   "source": [
    "load_dotenv\n"
   ]
  },
  {
   "cell_type": "code",
   "execution_count": 16,
   "metadata": {},
   "outputs": [
    {
     "name": "stdout",
     "output_type": "stream",
     "text": [
      "Formatted Prompt:\n",
      "\n",
      "Answer the question based on the context below. If you can't answer the question,\n",
      "reply 'I don't know'\n",
      "\n",
      "Context: Krsna was brought up in Vrindavan\n",
      "\n",
      "Question: Where was Krsna brought up?\n",
      "\n",
      "Response from model:\n",
      "Vrindavan\n"
     ]
    }
   ],
   "source": []
  },
  {
   "cell_type": "code",
   "execution_count": null,
   "metadata": {},
   "outputs": [],
   "source": []
  },
  {
   "cell_type": "code",
   "execution_count": null,
   "metadata": {},
   "outputs": [],
   "source": [
    "\n"
   ]
  },
  {
   "cell_type": "code",
   "execution_count": 20,
   "metadata": {},
   "outputs": [
    {
     "name": "stdout",
     "output_type": "stream",
     "text": [
      "Response from model:\n",
      "According to the text, from practical experiences, one is attracted to:\n",
      "\n",
      "* Wealth\n",
      "* Power\n",
      "* Fame\n"
     ]
    }
   ],
   "source": [
    "from langchain_community.document_loaders import PyPDFLoader\n",
    "from langchain.prompts import PromptTemplate\n",
    "from langchain_core.output_parsers import StrOutputParser\n",
    "from langchain_community.llms import Ollama\n",
    "import os\n",
    "from dotenv import load_dotenv\n",
    "\n",
    "# Load environment variables\n",
    "load_dotenv()\n",
    "\n",
    "# Define the template\n",
    "template = '''\n",
    "Answer the question based on the context below. If you can't answer the question,\n",
    "reply 'I don't know'\n",
    "\n",
    "Context: {context}\n",
    "\n",
    "Question: {question}\n",
    "'''\n",
    "prompt = PromptTemplate.from_template(template)\n",
    "\n",
    "# Initialize the model\n",
    "MODEL = 'llama3'\n",
    "model = Ollama(model=MODEL)\n",
    "\n",
    "# Define the output parser\n",
    "parser = StrOutputParser()\n",
    "\n",
    "# Create a chain function\n",
    "def chain_invoke(context, question):\n",
    "    # Format the prompt\n",
    "    formatted_prompt = prompt.format(context=context, question=question)\n",
    "    \n",
    "    # Get model's response\n",
    "    model_response = model.invoke(formatted_prompt)\n",
    "    \n",
    "    # Parse the response\n",
    "    parsed_response = parser.parse(model_response)\n",
    "    \n",
    "    return parsed_response\n",
    "\n",
    "# Load and split the PDF using PyPDFLoader\n",
    "loader = PyPDFLoader('Krsna_Book.pdf')\n",
    "pages = loader.load_and_split()\n",
    "\n",
    "# Example usage: Asking a question related to the first chunk\n",
    "response = chain_invoke(context=pages[0].page_content, question='From practical experiences, what is one attracted to?')\n",
    "print(\"Response from model:\")\n",
    "print(response)\n"
   ]
  },
  {
   "cell_type": "code",
   "execution_count": 19,
   "metadata": {},
   "outputs": [
    {
     "name": "stdout",
     "output_type": "stream",
     "text": [
      "Formatted Prompt:\n",
      "\n",
      "Answer the question based on the context below. If you can't answer the question,\n",
      "reply 'I don't know'\n",
      "\n",
      "Context: Krsna was brought up in Vrindavan\n",
      "\n",
      "Question: Where was Krsna brought up?\n",
      "\n",
      "Response from model:\n",
      "Vrindavan\n"
     ]
    }
   ],
   "source": [
    "import os\n",
    "from dotenv import load_dotenv\n",
    "from langchain.prompts import PromptTemplate\n",
    "from langchain_core.output_parsers import StrOutputParser\n",
    "from langchain_community.llms import Ollama\n",
    "\n",
    "# Load environment variables\n",
    "load_dotenv()\n",
    "\n",
    "# Define the template\n",
    "template = '''\n",
    "Answer the question based on the context below. If you can't answer the question,\n",
    "reply 'I don't know'\n",
    "\n",
    "Context: {context}\n",
    "\n",
    "Question: {question}\n",
    "'''\n",
    "prompt = PromptTemplate.from_template(template)\n",
    "\n",
    "# Format the prompt with example context and question\n",
    "formatted_prompt = prompt.format(context=\"Krsna was brought up in Vrindavan\", question=\"Where was Krsna brought up?\")\n",
    "print(\"Formatted Prompt:\")\n",
    "print(formatted_prompt)\n",
    "\n",
    "# Initialize the model\n",
    "MODEL = 'llama3'\n",
    "model = Ollama(model=MODEL)\n",
    "\n",
    "# Define the output parser\n",
    "parser = StrOutputParser()\n",
    "\n",
    "# Create a chain (assuming chaining is done manually here)\n",
    "def chain_invoke(context, question):\n",
    "    # Format the prompt\n",
    "    formatted_prompt = prompt.format(context=context, question=question)\n",
    "    \n",
    "    # Get model's response\n",
    "    model_response = model.invoke(formatted_prompt)\n",
    "    \n",
    "    # Parse the response\n",
    "    parsed_response = parser.parse(model_response)\n",
    "    \n",
    "    return parsed_response\n",
    "\n",
    "# Invoke the chain with the provided context and question\n",
    "response = chain_invoke(\n",
    "    context='Krsna was brought up in Vrindavan',\n",
    "    question='Where was Krsna brought up?'\n",
    ")\n",
    "\n",
    "# Print the final response\n",
    "print(\"Response from model:\")\n",
    "print(response)\n"
   ]
  },
  {
   "cell_type": "code",
   "execution_count": null,
   "metadata": {},
   "outputs": [],
   "source": []
  },
  {
   "cell_type": "code",
   "execution_count": null,
   "metadata": {},
   "outputs": [],
   "source": []
  },
  {
   "cell_type": "code",
   "execution_count": null,
   "metadata": {},
   "outputs": [],
   "source": []
  }
 ],
 "metadata": {
  "kernelspec": {
   "display_name": ".venv",
   "language": "python",
   "name": "python3"
  },
  "language_info": {
   "codemirror_mode": {
    "name": "ipython",
    "version": 3
   },
   "file_extension": ".py",
   "mimetype": "text/x-python",
   "name": "python",
   "nbconvert_exporter": "python",
   "pygments_lexer": "ipython3",
   "version": "3.9.6"
  }
 },
 "nbformat": 4,
 "nbformat_minor": 2
}
